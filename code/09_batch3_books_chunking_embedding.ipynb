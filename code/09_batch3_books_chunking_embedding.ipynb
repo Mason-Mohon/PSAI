{
 "cells": [
  {
   "cell_type": "markdown",
   "id": "9a98158d",
   "metadata": {},
   "source": [
    "5 Books, all by Phyllis Schlafly\n",
    "\n",
    "Phyllis Schlafly Speaks Vol 1: Her Favorite Speeches\n",
    "Pub: 2016\n",
    "/Users/mason/Desktop/Technical_Projects/PYTHON_Projects/PSAI/raw/PSSpeaksVol1_HerFavoriteSpeeches_Schlafly_2016_final.pdf\n",
    "\n",
    "Phyllis Schlafly Speaks Vol 2: On Donald Trump\n",
    "Pub: 2017\n",
    "/Users/mason/Desktop/Technical_Projects/PYTHON_Projects/PSAI/raw/PSSpeaksVol2_OnDonaldTrump_Schlafly_2017_final.pdf\n",
    "\n",
    "Phyllis Schlafly Speaks Vol 3: How the Republican Party Became Pro-Life\n",
    "Pub: 2018\n",
    "/Users/mason/Desktop/Technical_Projects/PYTHON_Projects/PSAI/raw/PSSpeaksVol3_HowTheRepublicanParty_Schlafly_2018_final.pdf\n",
    "\n",
    "Phyllis Schlafly Speaks Vol 4: Patents and Inventions\n",
    "Pub: 2018\n",
    "/Users/mason/Desktop/Technical_Projects/PYTHON_Projects/PSAI/raw/PSSpeaksVol4_PatentsAndInvention_Schlafly_2018_final.pdf\n",
    "\n",
    "Phyllis Schlafly Speaks Vol 5: Stopping the ERA\n",
    "Pub: 2019\n",
    "/Users/mason/Desktop/Technical_Projects/PYTHON_Projects/PSAI/raw/PSSpeaksVol5_StoppingTheERA_Schlafly_2019_final.pdf\n",
    "\n",
    "Store in: /Users/mason/Desktop/Technical_Projects/PYTHON_Projects/PSAI/chunks/batch3\n",
    "\n",
    "JSON format as follows:\n",
    "\n",
    "[\n",
    "  {\n",
    "    \"author\": \"Phyllis Schlafly\",\n",
    "    \"book_title\": \"TITLE\",\n",
    "    \"publication_year\": YEAR,\n",
    "    \"text\": \"EXAMPLE TEXT\"\n",
    "  }\n",
    "]\n",
    "\n",
    "Chunk size: 1000 characters\n",
    "\n",
    "Environment credentials for QDRANT in: /Users/mason/Desktop/Technical_Projects/PYTHON_Projects/PSAI/code/.env\n"
   ]
  },
  {
   "cell_type": "code",
   "execution_count": 1,
   "id": "b5a8e206",
   "metadata": {},
   "outputs": [],
   "source": [
    "# Imports\n",
    "\n",
    "import os\n",
    "import json\n",
    "import uuid\n",
    "import fitz\n",
    "from pathlib import Path\n",
    "from dotenv import load_dotenv\n",
    "from sentence_transformers import SentenceTransformer\n",
    "from qdrant_client import QdrantClient\n",
    "from qdrant_client.http.models import PointStruct, VectorParams, Distance"
   ]
  },
  {
   "cell_type": "code",
   "execution_count": 2,
   "id": "71afab74",
   "metadata": {},
   "outputs": [
    {
     "data": {
      "text/plain": [
       "True"
      ]
     },
     "execution_count": 2,
     "metadata": {},
     "output_type": "execute_result"
    }
   ],
   "source": [
    "# Config\n",
    "\n",
    "BOOKS = [\n",
    "    (\"Phyllis Schlafly Speaks Vol 1: Her Favorite Speeches\", 2016, \"/Users/mason/Desktop/Technical_Projects/PYTHON_Projects/PSAI/raw/PSSpeaksVol1_HerFavoriteSpeeches_Schlafly_2016_final.pdf\"),\n",
    "    (\"Phyllis Schlafly Speaks Vol 2: On Donald Trump\", 2017, \"/Users/mason/Desktop/Technical_Projects/PYTHON_Projects/PSAI/raw/PSSpeaksVol2_OnDonaldTrump_Schlafly_2017_final.pdf\"),\n",
    "    (\"Phyllis Schlafly Speaks Vol 3: How the Republican Party Became Pro-Life\", 2018, \"/Users/mason/Desktop/Technical_Projects/PYTHON_Projects/PSAI/raw/PSSpeaksVol3_HowTheRepublicanParty_Schlafly_2018_final.pdf\"),\n",
    "    (\"Phyllis Schlafly Speaks Vol 4: Patents and Inventions\", 2018, \"/Users/mason/Desktop/Technical_Projects/PYTHON_Projects/PSAI/raw/PSSpeaksVol4_PatentsAndInvention_Schlafly_2018_final.pdf\"),\n",
    "    (\"Phyllis Schlafly Speaks Vol 5: Stopping the ERA\", 2019, \"/Users/mason/Desktop/Technical_Projects/PYTHON_Projects/PSAI/raw/PSSpeaksVol5_StoppingTheERA_Schlafly_2019_final.pdf\"),\n",
    "]\n",
    "\n",
    "OUTPUT_DIR = Path(\"/Users/mason/Desktop/Technical_Projects/PYTHON_Projects/PSAI/chunks/batch3\")\n",
    "CHUNK_SIZE = 1000\n",
    "COLLECTION_NAME = \"book_chunks\"\n",
    "load_dotenv(\"/Users/mason/Desktop/Technical_Projects/PYTHON_Projects/PSAI/code/.env\")"
   ]
  },
  {
   "cell_type": "code",
   "execution_count": 3,
   "id": "d9d207c1",
   "metadata": {},
   "outputs": [],
   "source": [
    "# Helper Functions\n",
    "\n",
    "def extract_text_from_pdf(pdf_path):\n",
    "    doc = fitz.open(pdf_path)\n",
    "    text = \"\\n\".join(page.get_text() for page in doc)\n",
    "    return text\n",
    "\n",
    "def chunk_text(text, chunk_size = 1000):\n",
    "    paragraphs = text.split(\"\\n\")\n",
    "    chunks, current_chunk = [], \"\"\n",
    "    for para in paragraphs:\n",
    "        if not para.strip():\n",
    "            continue\n",
    "        if len(current_chunk) + len(para) < chunk_size:\n",
    "            current_chunk += para.strip() + \" \"\n",
    "        else:\n",
    "            chunks.append(current_chunk.strip())\n",
    "            current_chunk = para.strip() + \" \"\n",
    "    if current_chunk:\n",
    "        chunks.append(current_chunk.strip())\n",
    "    return chunks\n",
    "\n",
    "def build_json_chunks(chunks, title, year):\n",
    "    return [\n",
    "        {\n",
    "            \"author\": \"Phyllis Schlafly\",\n",
    "            \"book_title\": title,\n",
    "            \"publication_year\": year,\n",
    "            \"text\": chunk\n",
    "        }\n",
    "        for chunk in chunks\n",
    "    ]\n",
    "\n",
    "def save_chunks_to_json(data, output_path):\n",
    "    with open(output_path, \"w\") as f:\n",
    "        json.dump(data, f, indent=2)"
   ]
  },
  {
   "cell_type": "code",
   "execution_count": 4,
   "id": "96bae9ba",
   "metadata": {},
   "outputs": [
    {
     "name": "stdout",
     "output_type": "stream",
     "text": [
      "Total chunks prepared: 1180\n"
     ]
    }
   ],
   "source": [
    "# Proceess each book\n",
    "\n",
    "all_chunks = []\n",
    "for title, year, path in BOOKS:\n",
    "    text = extract_text_from_pdf(path)\n",
    "    chunks = chunk_text(text, CHUNK_SIZE)\n",
    "    json_chunks = build_json_chunks(chunks, title, year)\n",
    "    outpath = OUTPUT_DIR / (Path(path).stem + \".json\")\n",
    "    save_chunks_to_json(json_chunks, outpath)\n",
    "    all_chunks.extend(json_chunks)\n",
    "\n",
    "print(f\"Total chunks prepared: {len(all_chunks)}\")"
   ]
  },
  {
   "cell_type": "code",
   "execution_count": 6,
   "id": "9d3f780d",
   "metadata": {},
   "outputs": [
    {
     "name": "stdout",
     "output_type": "stream",
     "text": [
      "Uploaded 1180 points to 'book_chunks\n",
      "Done!\n"
     ]
    }
   ],
   "source": [
    "# Embedding and upload to Qdrant\n",
    "\n",
    "model = SentenceTransformer(\"all-MiniLM-L6-v2\")\n",
    "qdrant = QdrantClient(\n",
    "    url=os.getenv(\"QDRANT_URL\"),\n",
    "    api_key=os.getenv(\"QDRANT_API_KEY\")\n",
    ")\n",
    "\n",
    "def ensure_collection(name):\n",
    "    collections = qdrant.get_collections().collections\n",
    "    if not any(c.name == name for c in collections):\n",
    "        qdrant.recreate_collection(\n",
    "            collection_name=name,\n",
    "            vectors_config=VectorParams(size=384, distance=Distance.COSINE)\n",
    "        )\n",
    "\n",
    "def embed_and_upload(chunks, collection_name):\n",
    "    ensure_collection(collection_name)\n",
    "    texts = [c[\"text\"] for c in chunks]\n",
    "    vectors = model.encode(texts).tolist()\n",
    "    payloads = chunks\n",
    "    points = [\n",
    "        PointStruct(id=str(uuid.uuid4()), vector=vec, payload=payload)\n",
    "        for vec, payload in zip(vectors, payloads)\n",
    "    ]\n",
    "    qdrant.upload_points(collection_name=collection_name, points=points)\n",
    "    print(f\"Uploaded {len(points)} points to '{collection_name}\")\n",
    "\n",
    "embed_and_upload(all_chunks, COLLECTION_NAME)\n",
    "print(\"Done!\")\n"
   ]
  }
 ],
 "metadata": {
  "kernelspec": {
   "display_name": "psai",
   "language": "python",
   "name": "python3"
  },
  "language_info": {
   "codemirror_mode": {
    "name": "ipython",
    "version": 3
   },
   "file_extension": ".py",
   "mimetype": "text/x-python",
   "name": "python",
   "nbconvert_exporter": "python",
   "pygments_lexer": "ipython3",
   "version": "3.12.9"
  }
 },
 "nbformat": 4,
 "nbformat_minor": 5
}
