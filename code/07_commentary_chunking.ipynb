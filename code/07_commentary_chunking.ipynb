{
 "cells": [
  {
   "cell_type": "code",
   "execution_count": 1,
   "id": "790b7802",
   "metadata": {},
   "outputs": [
    {
     "name": "stdout",
     "output_type": "stream",
     "text": [
      "ExtractConfig(pdf_path=PosixPath('/Users/mason/Desktop/Technical_Projects/PYTHON_Projects/PSAI/code/data/raw/comm/2002/02.pdf'), out_path=PosixPath('/Users/mason/Desktop/Technical_Projects/PYTHON_Projects/PSAI/code/data/raw/comm/2002/02.txt'), dpi=300, lang='eng', overwrite=True, show_progress=True)\n",
      "INFO | Opening /Users/mason/Desktop/Technical_Projects/PYTHON_Projects/PSAI/code/data/raw/comm/2002/02.pdf\n"
     ]
    },
    {
     "name": "stderr",
     "output_type": "stream",
     "text": [
      "OCR pages: 100%|██████████| 21/21 [01:06<00:00,  3.16s/page]"
     ]
    },
    {
     "name": "stdout",
     "output_type": "stream",
     "text": [
      "INFO | Wrote 21 pages → /Users/mason/Desktop/Technical_Projects/PYTHON_Projects/PSAI/code/data/raw/comm/2002/02.txt (43.7 KB)\n",
      "✅ Saved OCR text → /Users/mason/Desktop/Technical_Projects/PYTHON_Projects/PSAI/code/data/raw/comm/2002/02.txt\n",
      "Phyllis Schlafly Commentaries on Christian Radio\n",
      "\n",
      "Week of February 1, 2002:\n",
      "\n",
      "02-24 Court Puts a Lid on Nosy Questionnaires Nosy Questions\n",
      "Week of February 3:\n",
      "02-25 Reform Our Visa System Now Terrorism\n",
      "02-26 Key Supreme Cases in 2001 EF Website\n",
      "02-27 The English Language Is the Tie that Binds English Language\n",
      "02-28 What Is Fuzzy Math? Education Reporter I\n",
      "02-29 Constitutional Convention R.I.P. EF Brochure\n",
      "Week of February 10:\n",
      "02-30 More Federal Control of Education Outcome Based Education\n",
      "02-31 Some Congressmen Tried to Improve the Education Law Education Video\n",
      "02-32 We Need a Time-Out on Immigration Immigration\n",
      "02-33 What Free Trade with China Really Means Free Trade\n",
      "02-34 Pro-Gay Curricula Is Coming to a School Near You Education Reporter II\n",
      "Week of February 17:\n",
      "02-35 It’s George Washington’s Birthday George Washington\n",
      "02-36 What’s Going On in China? Trade With China\n",
      "02-37 The Birth of World Government Global Video\n",
      "02-38 The Awesome Power of the Judiciary Imperial Judiciary\n",
      "02-39 Geor\n"
     ]
    },
    {
     "name": "stderr",
     "output_type": "stream",
     "text": [
      "\n"
     ]
    }
   ],
   "source": [
    "\n",
    "from pathlib import Path\n",
    "from page_text_extractor import extract_pdf_to_txt, ExtractConfig\n",
    "\n",
    "PDF_PATH = Path(\n",
    "    \"/Users/mason/Desktop/Technical_Projects/PYTHON_Projects/PSAI/code/data/raw/comm/2002/02.pdf\"\n",
    ")\n",
    "# By default, write alongside the PDF with same stem + .txt\n",
    "OUT_PATH = PDF_PATH.with_suffix(\".txt\")\n",
    "\n",
    "CFG = ExtractConfig(\n",
    "    pdf_path=PDF_PATH,\n",
    "    out_path=OUT_PATH,\n",
    "    dpi=300,          # render resolution for OCR\n",
    "    lang=\"eng\",       # Tesseract language pack(s)\n",
    "    overwrite=True,   # overwrite existing txt if present\n",
    "    show_progress=True,\n",
    ")\n",
    "print(CFG)\n",
    "\n",
    "# %% [markdown]\n",
    "# ## 3 · Run extraction\n",
    "\n",
    "# %%\n",
    "output_txt = extract_pdf_to_txt(CFG)\n",
    "print(f\"✅ Saved OCR text → {output_txt}\")\n",
    "\n",
    "# %% [markdown]\n",
    "# ## 4 · Preview first ~1,000 characters\n",
    "\n",
    "# %%\n",
    "preview_len = 1000\n",
    "with open(output_txt, \"r\", encoding=\"utf-8\") as f:\n",
    "    snippet = f.read(preview_len)\n",
    "print(snippet)\n",
    "\n"
   ]
  }
 ],
 "metadata": {
  "kernelspec": {
   "display_name": "psai",
   "language": "python",
   "name": "python3"
  },
  "language_info": {
   "codemirror_mode": {
    "name": "ipython",
    "version": 3
   },
   "file_extension": ".py",
   "mimetype": "text/x-python",
   "name": "python",
   "nbconvert_exporter": "python",
   "pygments_lexer": "ipython3",
   "version": "3.12.9"
  }
 },
 "nbformat": 4,
 "nbformat_minor": 5
}
