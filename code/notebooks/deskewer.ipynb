{
 "cells": [
  {
   "cell_type": "code",
   "execution_count": 1,
   "id": "253e561e",
   "metadata": {},
   "outputs": [],
   "source": [
    "import cv2\n",
    "import numpy as np\n",
    "import os\n",
    "from pdf2image import convert_from_path\n",
    "from PIL import Image\n",
    "import img2pdf\n",
    "\n",
    "def deskew_image(image):\n",
    "    gray = cv2.cvtColor(image, cv2.COLOR_RGB2GRAY)\n",
    "    blur = cv2.GaussianBlur(gray, (9, 9), 0)\n",
    "    thresh = cv2.threshold(blur, 0, 255, cv2.THRESH_BINARY_INV + cv2.THRESH_OTSU)[1]\n",
    "\n",
    "    coords = np.column_stack(np.where(thresh > 0))\n",
    "    angle = cv2.minAreaRect(coords)[-1]\n",
    "\n",
    "    # Correct angle\n",
    "    if angle < -45:\n",
    "        angle = -(90 + angle)\n",
    "    else:\n",
    "        angle = -angle\n",
    "\n",
    "    # Rotate image\n",
    "    (h, w) = image.shape[:2]\n",
    "    center = (w // 2, h // 2)\n",
    "    rot_mat = cv2.getRotationMatrix2D(center, angle, 1.0)\n",
    "    rotated = cv2.warpAffine(image, rot_mat, (w, h), flags=cv2.INTER_LINEAR, borderMode=cv2.BORDER_REPLICATE)\n",
    "\n",
    "    return rotated\n",
    "\n",
    "def process_pdf(input_pdf_path, output_pdf_path, dpi=300):\n",
    "    pages = convert_from_path(input_pdf_path, dpi=dpi)\n",
    "    deskewed_images = []\n",
    "\n",
    "    temp_dir = \"temp_deskew\"\n",
    "    os.makedirs(temp_dir, exist_ok=True)\n",
    "\n",
    "    for i, page in enumerate(pages):\n",
    "        image = np.array(page)\n",
    "        deskewed = deskew_image(image)\n",
    "        pil_image = Image.fromarray(deskewed)\n",
    "        img_path = os.path.join(temp_dir, f\"page_{i:03d}.jpg\")\n",
    "        pil_image.save(img_path, \"JPEG\")\n",
    "        deskewed_images.append(img_path)\n",
    "\n",
    "    # Convert to PDF\n",
    "    with open(output_pdf_path, \"wb\") as f:\n",
    "        f.write(img2pdf.convert(deskewed_images))\n",
    "\n",
    "    # Cleanup\n",
    "    for img in deskewed_images:\n",
    "        os.remove(img)\n",
    "    os.rmdir(temp_dir)\n",
    "\n",
    "# Example usage\n",
    "process_pdf(\"/Users/mason/Desktop/Technical_Projects/PYTHON_Projects/PSAI/raw/STRIKE FROM SPACE.pdf\", \"deskewed_output.pdf\")\n"
   ]
  }
 ],
 "metadata": {
  "kernelspec": {
   "display_name": "psai",
   "language": "python",
   "name": "python3"
  },
  "language_info": {
   "codemirror_mode": {
    "name": "ipython",
    "version": 3
   },
   "file_extension": ".py",
   "mimetype": "text/x-python",
   "name": "python",
   "nbconvert_exporter": "python",
   "pygments_lexer": "ipython3",
   "version": "3.12.9"
  }
 },
 "nbformat": 4,
 "nbformat_minor": 5
}
